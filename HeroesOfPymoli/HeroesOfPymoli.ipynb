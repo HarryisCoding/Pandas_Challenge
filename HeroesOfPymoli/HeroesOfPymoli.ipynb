{
 "cells": [
  {
   "cell_type": "code",
   "execution_count": 1,
   "metadata": {},
   "outputs": [],
   "source": [
    "#First trend:\n",
    "# The main player of Heroes of Pymoli is male. The number of male player accounts for 80.72%.\n",
    "\n",
    "#Second trend:\n",
    "# The total purchase from male player is larger than that from female player. However the average purchase price is the similar. \n",
    "# Thus there is no purchase power difference between male player and female player in this game.\n",
    "\n",
    "#Third trend:\n",
    "# The main players'age range is from 18 to 22 years old.They've purchased 251 items and spent\t$736.54 in total so far."
   ]
  },
  {
   "cell_type": "code",
   "execution_count": 2,
   "metadata": {},
   "outputs": [
    {
     "data": {
      "text/html": [
       "<div>\n",
       "<style>\n",
       "    .dataframe thead tr:only-child th {\n",
       "        text-align: right;\n",
       "    }\n",
       "\n",
       "    .dataframe thead th {\n",
       "        text-align: left;\n",
       "    }\n",
       "\n",
       "    .dataframe tbody tr th {\n",
       "        vertical-align: top;\n",
       "    }\n",
       "</style>\n",
       "<table border=\"1\" class=\"dataframe\">\n",
       "  <thead>\n",
       "    <tr style=\"text-align: right;\">\n",
       "      <th></th>\n",
       "      <th>Age</th>\n",
       "      <th>Gender</th>\n",
       "      <th>Item ID</th>\n",
       "      <th>Item Name</th>\n",
       "      <th>Price</th>\n",
       "      <th>SN</th>\n",
       "    </tr>\n",
       "  </thead>\n",
       "  <tbody>\n",
       "    <tr>\n",
       "      <th>0</th>\n",
       "      <td>38</td>\n",
       "      <td>Male</td>\n",
       "      <td>165</td>\n",
       "      <td>Bone Crushing Silver Skewer</td>\n",
       "      <td>3.37</td>\n",
       "      <td>Aelalis34</td>\n",
       "    </tr>\n",
       "    <tr>\n",
       "      <th>1</th>\n",
       "      <td>21</td>\n",
       "      <td>Male</td>\n",
       "      <td>119</td>\n",
       "      <td>Stormbringer, Dark Blade of Ending Misery</td>\n",
       "      <td>2.32</td>\n",
       "      <td>Eolo46</td>\n",
       "    </tr>\n",
       "    <tr>\n",
       "      <th>2</th>\n",
       "      <td>34</td>\n",
       "      <td>Male</td>\n",
       "      <td>174</td>\n",
       "      <td>Primitive Blade</td>\n",
       "      <td>2.46</td>\n",
       "      <td>Assastnya25</td>\n",
       "    </tr>\n",
       "    <tr>\n",
       "      <th>3</th>\n",
       "      <td>21</td>\n",
       "      <td>Male</td>\n",
       "      <td>92</td>\n",
       "      <td>Final Critic</td>\n",
       "      <td>1.36</td>\n",
       "      <td>Pheusrical25</td>\n",
       "    </tr>\n",
       "    <tr>\n",
       "      <th>4</th>\n",
       "      <td>23</td>\n",
       "      <td>Male</td>\n",
       "      <td>63</td>\n",
       "      <td>Stormfury Mace</td>\n",
       "      <td>1.27</td>\n",
       "      <td>Aela59</td>\n",
       "    </tr>\n",
       "  </tbody>\n",
       "</table>\n",
       "</div>"
      ],
      "text/plain": [
       "   Age Gender  Item ID                                  Item Name  Price  \\\n",
       "0   38   Male      165                Bone Crushing Silver Skewer   3.37   \n",
       "1   21   Male      119  Stormbringer, Dark Blade of Ending Misery   2.32   \n",
       "2   34   Male      174                            Primitive Blade   2.46   \n",
       "3   21   Male       92                               Final Critic   1.36   \n",
       "4   23   Male       63                             Stormfury Mace   1.27   \n",
       "\n",
       "             SN  \n",
       "0     Aelalis34  \n",
       "1        Eolo46  \n",
       "2   Assastnya25  \n",
       "3  Pheusrical25  \n",
       "4        Aela59  "
      ]
     },
     "execution_count": 2,
     "metadata": {},
     "output_type": "execute_result"
    }
   ],
   "source": [
    "# Read CSV\n",
    "import pandas as pd\n",
    "file_path = 'data/purchase_data.json'\n",
    "hp1_df = pd.read_json(file_path)\n",
    "hp1_df.head()"
   ]
  },
  {
   "cell_type": "code",
   "execution_count": 3,
   "metadata": {},
   "outputs": [
    {
     "data": {
      "text/html": [
       "<div>\n",
       "<style>\n",
       "    .dataframe thead tr:only-child th {\n",
       "        text-align: right;\n",
       "    }\n",
       "\n",
       "    .dataframe thead th {\n",
       "        text-align: left;\n",
       "    }\n",
       "\n",
       "    .dataframe tbody tr th {\n",
       "        vertical-align: top;\n",
       "    }\n",
       "</style>\n",
       "<table border=\"1\" class=\"dataframe\">\n",
       "  <thead>\n",
       "    <tr style=\"text-align: right;\">\n",
       "      <th></th>\n",
       "      <th>Age</th>\n",
       "      <th>Gender</th>\n",
       "      <th>Item ID</th>\n",
       "      <th>Item Name</th>\n",
       "      <th>Price</th>\n",
       "      <th>SN</th>\n",
       "    </tr>\n",
       "  </thead>\n",
       "  <tbody>\n",
       "    <tr>\n",
       "      <th>0</th>\n",
       "      <td>20</td>\n",
       "      <td>Male</td>\n",
       "      <td>93</td>\n",
       "      <td>Apocalyptic Battlescythe</td>\n",
       "      <td>4.49</td>\n",
       "      <td>Iloni35</td>\n",
       "    </tr>\n",
       "    <tr>\n",
       "      <th>1</th>\n",
       "      <td>21</td>\n",
       "      <td>Male</td>\n",
       "      <td>12</td>\n",
       "      <td>Dawne</td>\n",
       "      <td>3.36</td>\n",
       "      <td>Aidaira26</td>\n",
       "    </tr>\n",
       "    <tr>\n",
       "      <th>2</th>\n",
       "      <td>17</td>\n",
       "      <td>Male</td>\n",
       "      <td>5</td>\n",
       "      <td>Putrid Fan</td>\n",
       "      <td>2.63</td>\n",
       "      <td>Irim47</td>\n",
       "    </tr>\n",
       "    <tr>\n",
       "      <th>3</th>\n",
       "      <td>17</td>\n",
       "      <td>Male</td>\n",
       "      <td>123</td>\n",
       "      <td>Twilight's Carver</td>\n",
       "      <td>2.55</td>\n",
       "      <td>Irith83</td>\n",
       "    </tr>\n",
       "    <tr>\n",
       "      <th>4</th>\n",
       "      <td>22</td>\n",
       "      <td>Male</td>\n",
       "      <td>154</td>\n",
       "      <td>Feral Katana</td>\n",
       "      <td>4.11</td>\n",
       "      <td>Philodil43</td>\n",
       "    </tr>\n",
       "  </tbody>\n",
       "</table>\n",
       "</div>"
      ],
      "text/plain": [
       "   Age Gender  Item ID                 Item Name  Price          SN\n",
       "0   20   Male       93  Apocalyptic Battlescythe   4.49     Iloni35\n",
       "1   21   Male       12                     Dawne   3.36   Aidaira26\n",
       "2   17   Male        5                Putrid Fan   2.63      Irim47\n",
       "3   17   Male      123         Twilight's Carver   2.55     Irith83\n",
       "4   22   Male      154              Feral Katana   4.11  Philodil43"
      ]
     },
     "execution_count": 3,
     "metadata": {},
     "output_type": "execute_result"
    }
   ],
   "source": [
    "file_path = 'data/purchase_data2.json'\n",
    "hp2_df = pd.read_json(file_path)\n",
    "hp2_df.head()"
   ]
  },
  {
   "cell_type": "code",
   "execution_count": 4,
   "metadata": {},
   "outputs": [
    {
     "data": {
      "text/html": [
       "<div>\n",
       "<style>\n",
       "    .dataframe thead tr:only-child th {\n",
       "        text-align: right;\n",
       "    }\n",
       "\n",
       "    .dataframe thead th {\n",
       "        text-align: left;\n",
       "    }\n",
       "\n",
       "    .dataframe tbody tr th {\n",
       "        vertical-align: top;\n",
       "    }\n",
       "</style>\n",
       "<table border=\"1\" class=\"dataframe\">\n",
       "  <thead>\n",
       "    <tr style=\"text-align: right;\">\n",
       "      <th></th>\n",
       "      <th>Age</th>\n",
       "      <th>Gender</th>\n",
       "      <th>Item ID</th>\n",
       "      <th>Item Name</th>\n",
       "      <th>Price</th>\n",
       "      <th>SN</th>\n",
       "    </tr>\n",
       "  </thead>\n",
       "  <tbody>\n",
       "    <tr>\n",
       "      <th>0</th>\n",
       "      <td>38</td>\n",
       "      <td>Male</td>\n",
       "      <td>165</td>\n",
       "      <td>Bone Crushing Silver Skewer</td>\n",
       "      <td>3.37</td>\n",
       "      <td>Aelalis34</td>\n",
       "    </tr>\n",
       "    <tr>\n",
       "      <th>1</th>\n",
       "      <td>21</td>\n",
       "      <td>Male</td>\n",
       "      <td>119</td>\n",
       "      <td>Stormbringer, Dark Blade of Ending Misery</td>\n",
       "      <td>2.32</td>\n",
       "      <td>Eolo46</td>\n",
       "    </tr>\n",
       "    <tr>\n",
       "      <th>2</th>\n",
       "      <td>34</td>\n",
       "      <td>Male</td>\n",
       "      <td>174</td>\n",
       "      <td>Primitive Blade</td>\n",
       "      <td>2.46</td>\n",
       "      <td>Assastnya25</td>\n",
       "    </tr>\n",
       "    <tr>\n",
       "      <th>3</th>\n",
       "      <td>21</td>\n",
       "      <td>Male</td>\n",
       "      <td>92</td>\n",
       "      <td>Final Critic</td>\n",
       "      <td>1.36</td>\n",
       "      <td>Pheusrical25</td>\n",
       "    </tr>\n",
       "    <tr>\n",
       "      <th>4</th>\n",
       "      <td>23</td>\n",
       "      <td>Male</td>\n",
       "      <td>63</td>\n",
       "      <td>Stormfury Mace</td>\n",
       "      <td>1.27</td>\n",
       "      <td>Aela59</td>\n",
       "    </tr>\n",
       "  </tbody>\n",
       "</table>\n",
       "</div>"
      ],
      "text/plain": [
       "   Age Gender  Item ID                                  Item Name  Price  \\\n",
       "0   38   Male      165                Bone Crushing Silver Skewer   3.37   \n",
       "1   21   Male      119  Stormbringer, Dark Blade of Ending Misery   2.32   \n",
       "2   34   Male      174                            Primitive Blade   2.46   \n",
       "3   21   Male       92                               Final Critic   1.36   \n",
       "4   23   Male       63                             Stormfury Mace   1.27   \n",
       "\n",
       "             SN  \n",
       "0     Aelalis34  \n",
       "1        Eolo46  \n",
       "2   Assastnya25  \n",
       "3  Pheusrical25  \n",
       "4        Aela59  "
      ]
     },
     "execution_count": 4,
     "metadata": {},
     "output_type": "execute_result"
    }
   ],
   "source": [
    "hp_df = hp1_df.append(hp2_df)\n",
    "hp_df.head()"
   ]
  },
  {
   "cell_type": "code",
   "execution_count": 5,
   "metadata": {
    "collapsed": true
   },
   "outputs": [],
   "source": [
    "#Player Count"
   ]
  },
  {
   "cell_type": "code",
   "execution_count": 6,
   "metadata": {},
   "outputs": [
    {
     "data": {
      "text/html": [
       "<div>\n",
       "<style>\n",
       "    .dataframe thead tr:only-child th {\n",
       "        text-align: right;\n",
       "    }\n",
       "\n",
       "    .dataframe thead th {\n",
       "        text-align: left;\n",
       "    }\n",
       "\n",
       "    .dataframe tbody tr th {\n",
       "        vertical-align: top;\n",
       "    }\n",
       "</style>\n",
       "<table border=\"1\" class=\"dataframe\">\n",
       "  <thead>\n",
       "    <tr style=\"text-align: right;\">\n",
       "      <th></th>\n",
       "      <th>Total Players</th>\n",
       "    </tr>\n",
       "  </thead>\n",
       "  <tbody>\n",
       "    <tr>\n",
       "      <th>0</th>\n",
       "      <td>612</td>\n",
       "    </tr>\n",
       "  </tbody>\n",
       "</table>\n",
       "</div>"
      ],
      "text/plain": [
       "   Total Players\n",
       "0            612"
      ]
     },
     "execution_count": 6,
     "metadata": {},
     "output_type": "execute_result"
    }
   ],
   "source": [
    "# df['column'].unique() (shows every element of the series that appears only once)\n",
    "# hp_df['SN'].unique()\n",
    "Total_Number_of_Players = len(hp_df['SN'].unique())\n",
    "Total_Number_of_Players\n",
    "pc = {'Total Players': [Total_Number_of_Players]}\n",
    "p_df = pd.DataFrame(pc)\n",
    "p_df"
   ]
  },
  {
   "cell_type": "code",
   "execution_count": 7,
   "metadata": {
    "collapsed": true
   },
   "outputs": [],
   "source": [
    "# Purchasing Analysis (Total)\n",
    "#•Number of Unique Items\n",
    "#•Average Purchase Price\n",
    "#•Total Number of Purchases\n",
    "#•Total Revenue"
   ]
  },
  {
   "cell_type": "code",
   "execution_count": 8,
   "metadata": {},
   "outputs": [
    {
     "data": {
      "text/plain": [
       "Final Critic                            14\n",
       "Stormcaller                             12\n",
       "Arcane Gem                              12\n",
       "Betrayal, Whisper of Grieving Widows    11\n",
       "Trickster                               10\n",
       "Name: Item Name, dtype: int64"
      ]
     },
     "execution_count": 8,
     "metadata": {},
     "output_type": "execute_result"
    }
   ],
   "source": [
    "#df['column'].value_counts() (counts the unique values in a column)\n",
    "hp_df['SN'].value_counts().head()\n",
    "hp_df['Item Name'].value_counts().head()"
   ]
  },
  {
   "cell_type": "code",
   "execution_count": 9,
   "metadata": {},
   "outputs": [
    {
     "data": {
      "text/plain": [
       "180"
      ]
     },
     "execution_count": 9,
     "metadata": {},
     "output_type": "execute_result"
    }
   ],
   "source": [
    "# Number of Unique Items\n",
    "Number_of_Unique_Items = len(hp_df['Item Name'].value_counts())\n",
    "Number_of_Unique_Items"
   ]
  },
  {
   "cell_type": "code",
   "execution_count": 10,
   "metadata": {},
   "outputs": [
    {
     "data": {
      "text/plain": [
       "858"
      ]
     },
     "execution_count": 10,
     "metadata": {},
     "output_type": "execute_result"
    }
   ],
   "source": [
    "# Total Number of Purchases\n",
    "Total_Number_of_Purchases = len(hp_df)\n",
    "Total_Number_of_Purchases"
   ]
  },
  {
   "cell_type": "code",
   "execution_count": 11,
   "metadata": {},
   "outputs": [
    {
     "data": {
      "text/plain": [
       "2514.4299999999967"
      ]
     },
     "execution_count": 11,
     "metadata": {},
     "output_type": "execute_result"
    }
   ],
   "source": [
    "# Total Revenue\n",
    "Total_Revenue = hp_df['Price'].sum()\n",
    "Total_Revenue"
   ]
  },
  {
   "cell_type": "code",
   "execution_count": 12,
   "metadata": {},
   "outputs": [
    {
     "data": {
      "text/plain": [
       "2.9305710955710915"
      ]
     },
     "execution_count": 12,
     "metadata": {},
     "output_type": "execute_result"
    }
   ],
   "source": [
    "# Average Purchase Price\n",
    "Average_Purchase_Price = Total_Revenue / Total_Number_of_Purchases\n",
    "Average_Purchase_Price"
   ]
  },
  {
   "cell_type": "code",
   "execution_count": 13,
   "metadata": {
    "collapsed": true
   },
   "outputs": [],
   "source": [
    "pa = {'Number of Unique Items': [Number_of_Unique_Items],\n",
    "      'Average Price': [Average_Purchase_Price],\n",
    "      'Number of Purchases': [Total_Number_of_Purchases],\n",
    "      'Total Revenue': [Total_Revenue]}\n",
    "pa_df = pd.DataFrame(pa)\n",
    "#pa_df"
   ]
  },
  {
   "cell_type": "code",
   "execution_count": 14,
   "metadata": {
    "collapsed": true
   },
   "outputs": [],
   "source": [
    "# Gender Demographics\n",
    "#•Percentage and Count of Male Players\n",
    "#•Percentage and Count of Female Players\n",
    "#•Percentage and Count of Other / Non-Disclosed"
   ]
  },
  {
   "cell_type": "code",
   "execution_count": 15,
   "metadata": {},
   "outputs": [
    {
     "data": {
      "text/plain": [
       "Gender\n",
       "Female                   112\n",
       "Male                     498\n",
       "Other / Non-Disclosed      9\n",
       "Name: SN, dtype: int64"
      ]
     },
     "execution_count": 15,
     "metadata": {},
     "output_type": "execute_result"
    }
   ],
   "source": [
    "gd_df = hp_df.groupby('Gender')['SN'].nunique()\n",
    "gd_df"
   ]
  },
  {
   "cell_type": "code",
   "execution_count": 16,
   "metadata": {
    "collapsed": true
   },
   "outputs": [],
   "source": [
    "u_hp_df = hp_df.drop_duplicates(['SN'], keep = 'last')\n",
    "#u_hp_df.head()"
   ]
  },
  {
   "cell_type": "code",
   "execution_count": 17,
   "metadata": {},
   "outputs": [
    {
     "data": {
      "text/plain": [
       "Male                     494\n",
       "Female                   109\n",
       "Other / Non-Disclosed      9\n",
       "Name: Gender, dtype: int64"
      ]
     },
     "execution_count": 17,
     "metadata": {},
     "output_type": "execute_result"
    }
   ],
   "source": [
    "# Percentage and Count of Male Players\n",
    "gender = u_hp_df['Gender'].value_counts()\n",
    "gender"
   ]
  },
  {
   "cell_type": "code",
   "execution_count": 18,
   "metadata": {},
   "outputs": [
    {
     "data": {
      "text/plain": [
       "612"
      ]
     },
     "execution_count": 18,
     "metadata": {},
     "output_type": "execute_result"
    }
   ],
   "source": [
    "u_hp_df['Gender'].value_counts().sum()"
   ]
  },
  {
   "cell_type": "code",
   "execution_count": 19,
   "metadata": {},
   "outputs": [
    {
     "data": {
      "text/plain": [
       "494"
      ]
     },
     "execution_count": 19,
     "metadata": {},
     "output_type": "execute_result"
    }
   ],
   "source": [
    "male_players = gender[0]\n",
    "male_players"
   ]
  },
  {
   "cell_type": "code",
   "execution_count": 20,
   "metadata": {},
   "outputs": [
    {
     "data": {
      "text/plain": [
       "0.80718954248366015"
      ]
     },
     "execution_count": 20,
     "metadata": {},
     "output_type": "execute_result"
    }
   ],
   "source": [
    "total_players = u_hp_df['Gender'].value_counts().sum()\n",
    "percentage_male_player = male_players / total_players\n",
    "percentage_male_player"
   ]
  },
  {
   "cell_type": "code",
   "execution_count": 21,
   "metadata": {},
   "outputs": [
    {
     "data": {
      "text/plain": [
       "109"
      ]
     },
     "execution_count": 21,
     "metadata": {},
     "output_type": "execute_result"
    }
   ],
   "source": [
    "# Percentage and Count of Female Players\n",
    "female_players = gender[1]\n",
    "female_players"
   ]
  },
  {
   "cell_type": "code",
   "execution_count": 22,
   "metadata": {},
   "outputs": [
    {
     "data": {
      "text/plain": [
       "0.1781045751633987"
      ]
     },
     "execution_count": 22,
     "metadata": {},
     "output_type": "execute_result"
    }
   ],
   "source": [
    "total_players = u_hp_df['Gender'].value_counts().sum()\n",
    "# percentage_female_player = \"{:.2%}\".format(female_players / total_players)\n",
    "percentage_female_player = female_players / total_players\n",
    "percentage_female_player"
   ]
  },
  {
   "cell_type": "code",
   "execution_count": 23,
   "metadata": {},
   "outputs": [
    {
     "data": {
      "text/plain": [
       "9"
      ]
     },
     "execution_count": 23,
     "metadata": {},
     "output_type": "execute_result"
    }
   ],
   "source": [
    "# Percentage and Count of Other / Non-Disclosed\n",
    "Other_NonDisclosed_players = gender[2]\n",
    "Other_NonDisclosed_players"
   ]
  },
  {
   "cell_type": "code",
   "execution_count": 24,
   "metadata": {},
   "outputs": [
    {
     "data": {
      "text/plain": [
       "0.014705882352941176"
      ]
     },
     "execution_count": 24,
     "metadata": {},
     "output_type": "execute_result"
    }
   ],
   "source": [
    "total_players = u_hp_df['Gender'].value_counts().sum()\n",
    "# percentage_Other_NonDisclosed_player = \"{:.2%}\".format(female_players / total_players)\n",
    "percenttage_other_nondisclosed_player = Other_NonDisclosed_players / total_players\n",
    "percenttage_other_nondisclosed_player"
   ]
  },
  {
   "cell_type": "code",
   "execution_count": 25,
   "metadata": {},
   "outputs": [
    {
     "data": {
      "text/html": [
       "<div>\n",
       "<style>\n",
       "    .dataframe thead tr:only-child th {\n",
       "        text-align: right;\n",
       "    }\n",
       "\n",
       "    .dataframe thead th {\n",
       "        text-align: left;\n",
       "    }\n",
       "\n",
       "    .dataframe tbody tr th {\n",
       "        vertical-align: top;\n",
       "    }\n",
       "</style>\n",
       "<table border=\"1\" class=\"dataframe\">\n",
       "  <thead>\n",
       "    <tr style=\"text-align: right;\">\n",
       "      <th></th>\n",
       "      <th>Percentage of Players</th>\n",
       "      <th>Total Count</th>\n",
       "    </tr>\n",
       "  </thead>\n",
       "  <tbody>\n",
       "    <tr>\n",
       "      <th>Male</th>\n",
       "      <td>80.72%</td>\n",
       "      <td>494</td>\n",
       "    </tr>\n",
       "    <tr>\n",
       "      <th>Female</th>\n",
       "      <td>17.81%</td>\n",
       "      <td>109</td>\n",
       "    </tr>\n",
       "    <tr>\n",
       "      <th>Other/NonDisclosed</th>\n",
       "      <td>1.47%</td>\n",
       "      <td>9</td>\n",
       "    </tr>\n",
       "  </tbody>\n",
       "</table>\n",
       "</div>"
      ],
      "text/plain": [
       "                   Percentage of Players  Total Count\n",
       "Male                              80.72%          494\n",
       "Female                            17.81%          109\n",
       "Other/NonDisclosed                 1.47%            9"
      ]
     },
     "execution_count": 25,
     "metadata": {},
     "output_type": "execute_result"
    }
   ],
   "source": [
    "gender_index = [\"Male\", \"Female\", \"Other/NonDisclosed\"]\n",
    "Percentage_of_Players = [percentage_male_player, percentage_female_player, percenttage_other_nondisclosed_player]\n",
    "Total_Count = [male_players, female_players, Other_NonDisclosed_players]\n",
    "gd = {'Percentage of Players': Percentage_of_Players,\n",
    "      'Total Count': Total_Count,}\n",
    "gd_df = pd.DataFrame(gd, index=gender_index)\n",
    "gd_df['Percentage of Players'] = gd_df['Percentage of Players'].map(\"{:.2%}\".format)\n",
    "gd_df"
   ]
  },
  {
   "cell_type": "code",
   "execution_count": 26,
   "metadata": {
    "collapsed": true
   },
   "outputs": [],
   "source": [
    "# Purchasing Analysis (Gender) \n",
    "# The below each broken by gender\n",
    "# ● Purchase Count\n",
    "# ● Average Purchase Price\n",
    "# ● Total Purchase Value\n",
    "# ● Normalized Totals"
   ]
  },
  {
   "cell_type": "code",
   "execution_count": 27,
   "metadata": {
    "collapsed": true
   },
   "outputs": [],
   "source": [
    "g_df = hp_df.groupby('Gender').agg({'Price': 'sum','Item ID': 'count'})\n",
    "#g_df"
   ]
  },
  {
   "cell_type": "code",
   "execution_count": 28,
   "metadata": {
    "collapsed": true
   },
   "outputs": [],
   "source": [
    "pag_total_purchase_balue = g_df['Price']\n",
    "pag_purchase_count = g_df['Item ID']\n",
    "pag_apc = [(x*1.0)/y for x, y in zip(pag_total_purchase_balue, pag_purchase_count)]\n",
    "g_df['Average Purchase Price'] = pd.Series(pag_apc, index=g_df.index)\n",
    "#g_df"
   ]
  },
  {
   "cell_type": "code",
   "execution_count": 29,
   "metadata": {},
   "outputs": [
    {
     "data": {
      "text/plain": [
       "[107.21613967033807, 521.46295900876009, 8.8878953955289823]"
      ]
     },
     "execution_count": 29,
     "metadata": {},
     "output_type": "execute_result"
    }
   ],
   "source": [
    "max_price = hp_df['Price'].max()\n",
    "min_price = hp_df['Price'].min()\n",
    "mean_price = hp_df['Price'].mean()\n",
    "Normalized_Totals = [(x- mean_price)/(max_price - min_price) for x in g_df['Price']]\n",
    "Normalized_Totals"
   ]
  },
  {
   "cell_type": "code",
   "execution_count": 30,
   "metadata": {},
   "outputs": [
    {
     "data": {
      "text/html": [
       "<div>\n",
       "<style>\n",
       "    .dataframe thead tr:only-child th {\n",
       "        text-align: right;\n",
       "    }\n",
       "\n",
       "    .dataframe thead th {\n",
       "        text-align: left;\n",
       "    }\n",
       "\n",
       "    .dataframe tbody tr th {\n",
       "        vertical-align: top;\n",
       "    }\n",
       "</style>\n",
       "<table border=\"1\" class=\"dataframe\">\n",
       "  <thead>\n",
       "    <tr style=\"text-align: right;\">\n",
       "      <th></th>\n",
       "      <th>Total Purchase Value</th>\n",
       "      <th>Purchase Count</th>\n",
       "      <th>Average Purchase Price</th>\n",
       "      <th>Normalized Totals</th>\n",
       "    </tr>\n",
       "    <tr>\n",
       "      <th>Gender</th>\n",
       "      <th></th>\n",
       "      <th></th>\n",
       "      <th></th>\n",
       "      <th></th>\n",
       "    </tr>\n",
       "  </thead>\n",
       "  <tbody>\n",
       "    <tr>\n",
       "      <th>Female</th>\n",
       "      <td>$424.29</td>\n",
       "      <td>149</td>\n",
       "      <td>$2.85</td>\n",
       "      <td>107.216140</td>\n",
       "    </tr>\n",
       "    <tr>\n",
       "      <th>Male</th>\n",
       "      <td>$2,052.28</td>\n",
       "      <td>697</td>\n",
       "      <td>$2.94</td>\n",
       "      <td>521.462959</td>\n",
       "    </tr>\n",
       "    <tr>\n",
       "      <th>Other / Non-Disclosed</th>\n",
       "      <td>$37.86</td>\n",
       "      <td>12</td>\n",
       "      <td>$3.15</td>\n",
       "      <td>8.887895</td>\n",
       "    </tr>\n",
       "  </tbody>\n",
       "</table>\n",
       "</div>"
      ],
      "text/plain": [
       "                      Total Purchase Value  Purchase Count  \\\n",
       "Gender                                                       \n",
       "Female                             $424.29             149   \n",
       "Male                             $2,052.28             697   \n",
       "Other / Non-Disclosed               $37.86              12   \n",
       "\n",
       "                      Average Purchase Price  Normalized Totals  \n",
       "Gender                                                           \n",
       "Female                                 $2.85         107.216140  \n",
       "Male                                   $2.94         521.462959  \n",
       "Other / Non-Disclosed                  $3.15           8.887895  "
      ]
     },
     "execution_count": 30,
     "metadata": {},
     "output_type": "execute_result"
    }
   ],
   "source": [
    "pag_total_purchase_balue = g_df['Price']\n",
    "pag_purchase_count = g_df['Item ID']\n",
    "pag_apc = [(x*1.0)/y for x, y in zip(pag_total_purchase_balue, pag_purchase_count)]\n",
    "g_df['Average Purchase Price'] = pd.Series(pag_apc, index=g_df.index)\n",
    "g_df['Normalized Totals'] = pd.Series(Normalized_Totals, index=g_df.index)\n",
    "g_df = g_df.rename(index=str,columns={'Price': 'Total Purchase Value', 'Item ID': 'Purchase Count'})\n",
    "g_df['Average Purchase Price'] = g_df['Average Purchase Price'].map('${:,.2f}'.format)\n",
    "g_df['Total Purchase Value'] = g_df['Total Purchase Value'].map('${:,.2f}'.format)\n",
    "g_df"
   ]
  },
  {
   "cell_type": "code",
   "execution_count": 31,
   "metadata": {
    "collapsed": true
   },
   "outputs": [],
   "source": [
    "#Age Demographics\n",
    "#•The below each broken into bins of 4 years (i.e. <10, 10-14, 15-19, etc.) \n",
    "#•Purchase Count\n",
    "#•Average Purchase Price\n",
    "#•Total Purchase Value\n",
    "#•Normalized Totals"
   ]
  },
  {
   "cell_type": "code",
   "execution_count": 32,
   "metadata": {},
   "outputs": [
    {
     "data": {
      "text/plain": [
       "45"
      ]
     },
     "execution_count": 32,
     "metadata": {},
     "output_type": "execute_result"
    }
   ],
   "source": [
    "hp_df['Age'].max()"
   ]
  },
  {
   "cell_type": "code",
   "execution_count": 33,
   "metadata": {},
   "outputs": [
    {
     "data": {
      "text/plain": [
       "7"
      ]
     },
     "execution_count": 33,
     "metadata": {},
     "output_type": "execute_result"
    }
   ],
   "source": [
    "hp_df['Age'].min()"
   ]
  },
  {
   "cell_type": "code",
   "execution_count": 34,
   "metadata": {
    "collapsed": true
   },
   "outputs": [],
   "source": [
    "bins = [6, 10, 14, 18, 22, 26, 30, 34, 38, 42, 45]"
   ]
  },
  {
   "cell_type": "code",
   "execution_count": 35,
   "metadata": {
    "collapsed": true
   },
   "outputs": [],
   "source": [
    "group_names = ['(6,10]', '(10,14]', '(14,18]', '(18,22]', '(22,26]', '(26,30]','(30,34]','(34,38]','(38,42]','>42']"
   ]
  },
  {
   "cell_type": "code",
   "execution_count": 36,
   "metadata": {},
   "outputs": [
    {
     "data": {
      "text/plain": [
       "0    (34,38]\n",
       "1    (18,22]\n",
       "2    (30,34]\n",
       "3    (18,22]\n",
       "4    (22,26]\n",
       "Name: Age, dtype: category\n",
       "Categories (10, object): [(6,10] < (10,14] < (14,18] < (18,22] ... (30,34] < (34,38] < (38,42] < >42]"
      ]
     },
     "execution_count": 36,
     "metadata": {},
     "output_type": "execute_result"
    }
   ],
   "source": [
    "Age_Range = pd.cut(hp_df['Age'], bins, labels=group_names)\n",
    "hp_df['Age Range'] = pd.cut(hp_df['Age'], bins, labels=group_names)\n",
    "Age_Range.head()"
   ]
  },
  {
   "cell_type": "code",
   "execution_count": 37,
   "metadata": {
    "collapsed": true
   },
   "outputs": [],
   "source": [
    "#hp_df.head()"
   ]
  },
  {
   "cell_type": "code",
   "execution_count": 38,
   "metadata": {
    "collapsed": true
   },
   "outputs": [],
   "source": [
    "age_range_count = hp_df['Age Range'].value_counts()\n",
    "#age_range_count"
   ]
  },
  {
   "cell_type": "code",
   "execution_count": 39,
   "metadata": {
    "collapsed": true
   },
   "outputs": [],
   "source": [
    "ar_df = hp_df.groupby('Age Range').Price.sum()\n",
    "#ar_df"
   ]
  },
  {
   "cell_type": "code",
   "execution_count": 40,
   "metadata": {},
   "outputs": [
    {
     "data": {
      "text/plain": [
       "92.749999999999986"
      ]
     },
     "execution_count": 40,
     "metadata": {},
     "output_type": "execute_result"
    }
   ],
   "source": [
    "ar_df[1]"
   ]
  },
  {
   "cell_type": "code",
   "execution_count": 41,
   "metadata": {
    "collapsed": true
   },
   "outputs": [],
   "source": [
    "ar_pc = []\n",
    "ar_pt = []\n",
    "ar_apc = []\n",
    "ar_nt = []\n",
    "for x in range(10):\n",
    "    pc = age_range_count[x]\n",
    "    ar_pc.append(pc)\n",
    "for x in range(10):\n",
    "    tc = ar_df[x]\n",
    "    ar_pt.append(tc)\n",
    "ar_apc = [(x*1.0)/y for x, y in zip(ar_pt, ar_pc)]\n",
    "for x in range(10):\n",
    "    n = (ar_pt[x] - - mean_price)/(max_price - min_price)\n",
    "    ar_nt.append(n)\n",
    "#ar_nt"
   ]
  },
  {
   "cell_type": "code",
   "execution_count": 42,
   "metadata": {},
   "outputs": [
    {
     "data": {
      "text/html": [
       "<div>\n",
       "<style>\n",
       "    .dataframe thead tr:only-child th {\n",
       "        text-align: right;\n",
       "    }\n",
       "\n",
       "    .dataframe thead th {\n",
       "        text-align: left;\n",
       "    }\n",
       "\n",
       "    .dataframe tbody tr th {\n",
       "        vertical-align: top;\n",
       "    }\n",
       "</style>\n",
       "<table border=\"1\" class=\"dataframe\">\n",
       "  <thead>\n",
       "    <tr style=\"text-align: right;\">\n",
       "      <th></th>\n",
       "      <th>Total Purchase Value</th>\n",
       "      <th>Purchase Count</th>\n",
       "      <th>Average Purchase Price</th>\n",
       "      <th>Normalized Totals</th>\n",
       "    </tr>\n",
       "    <tr>\n",
       "      <th>Age Range</th>\n",
       "      <th></th>\n",
       "      <th></th>\n",
       "      <th></th>\n",
       "      <th></th>\n",
       "    </tr>\n",
       "  </thead>\n",
       "  <tbody>\n",
       "    <tr>\n",
       "      <th>(6,10]</th>\n",
       "      <td>$110.44</td>\n",
       "      <td>37</td>\n",
       "      <td>$37.00</td>\n",
       "      <td>28.847474</td>\n",
       "    </tr>\n",
       "    <tr>\n",
       "      <th>(10,14]</th>\n",
       "      <td>$92.75</td>\n",
       "      <td>34</td>\n",
       "      <td>$34.00</td>\n",
       "      <td>24.346201</td>\n",
       "    </tr>\n",
       "    <tr>\n",
       "      <th>(14,18]</th>\n",
       "      <td>$349.73</td>\n",
       "      <td>122</td>\n",
       "      <td>$122.00</td>\n",
       "      <td>89.735514</td>\n",
       "    </tr>\n",
       "    <tr>\n",
       "      <th>(18,22]</th>\n",
       "      <td>$736.54</td>\n",
       "      <td>251</td>\n",
       "      <td>$251.00</td>\n",
       "      <td>188.160451</td>\n",
       "    </tr>\n",
       "    <tr>\n",
       "      <th>(22,26]</th>\n",
       "      <td>$675.63</td>\n",
       "      <td>230</td>\n",
       "      <td>$230.00</td>\n",
       "      <td>172.661723</td>\n",
       "    </tr>\n",
       "    <tr>\n",
       "      <th>(26,30]</th>\n",
       "      <td>$198.76</td>\n",
       "      <td>67</td>\n",
       "      <td>$67.00</td>\n",
       "      <td>51.320756</td>\n",
       "    </tr>\n",
       "    <tr>\n",
       "      <th>(30,34]</th>\n",
       "      <td>$151.41</td>\n",
       "      <td>51</td>\n",
       "      <td>$51.00</td>\n",
       "      <td>39.272410</td>\n",
       "    </tr>\n",
       "    <tr>\n",
       "      <th>(34,38]</th>\n",
       "      <td>$122.78</td>\n",
       "      <td>42</td>\n",
       "      <td>$42.00</td>\n",
       "      <td>31.987423</td>\n",
       "    </tr>\n",
       "    <tr>\n",
       "      <th>(38,42]</th>\n",
       "      <td>$69.86</td>\n",
       "      <td>22</td>\n",
       "      <td>$22.00</td>\n",
       "      <td>18.521774</td>\n",
       "    </tr>\n",
       "    <tr>\n",
       "      <th>&gt;42</th>\n",
       "      <td>$6.53</td>\n",
       "      <td>2</td>\n",
       "      <td>$2.00</td>\n",
       "      <td>2.407270</td>\n",
       "    </tr>\n",
       "  </tbody>\n",
       "</table>\n",
       "</div>"
      ],
      "text/plain": [
       "          Total Purchase Value  Purchase Count Average Purchase Price  \\\n",
       "Age Range                                                               \n",
       "(6,10]                 $110.44              37                 $37.00   \n",
       "(10,14]                 $92.75              34                 $34.00   \n",
       "(14,18]                $349.73             122                $122.00   \n",
       "(18,22]                $736.54             251                $251.00   \n",
       "(22,26]                $675.63             230                $230.00   \n",
       "(26,30]                $198.76              67                 $67.00   \n",
       "(30,34]                $151.41              51                 $51.00   \n",
       "(34,38]                $122.78              42                 $42.00   \n",
       "(38,42]                 $69.86              22                 $22.00   \n",
       ">42                      $6.53               2                  $2.00   \n",
       "\n",
       "           Normalized Totals  \n",
       "Age Range                     \n",
       "(6,10]             28.847474  \n",
       "(10,14]            24.346201  \n",
       "(14,18]            89.735514  \n",
       "(18,22]           188.160451  \n",
       "(22,26]           172.661723  \n",
       "(26,30]            51.320756  \n",
       "(30,34]            39.272410  \n",
       "(34,38]            31.987423  \n",
       "(38,42]            18.521774  \n",
       ">42                 2.407270  "
      ]
     },
     "execution_count": 42,
     "metadata": {},
     "output_type": "execute_result"
    }
   ],
   "source": [
    "age_df = hp_df.groupby('Age Range').agg({'Price': 'sum'})\n",
    "age_df['Purchase Count'] = pd.Series(ar_pc, index=age_df.index)\n",
    "age_df['Average Purchase Price'] = pd.Series(ar_pc, index=age_df.index)\n",
    "age_df['Normalized Totals'] = pd.Series(ar_nt, index=age_df.index)\n",
    "age_df = age_df.rename(columns={'Price': 'Total Purchase Value'})\n",
    "age_df['Average Purchase Price'] = age_df['Average Purchase Price'].map('${:,.2f}'.format)\n",
    "age_df['Total Purchase Value'] = age_df['Total Purchase Value'].map('${:,.2f}'.format)\n",
    "age_df"
   ]
  },
  {
   "cell_type": "code",
   "execution_count": 95,
   "metadata": {
    "collapsed": true
   },
   "outputs": [],
   "source": [
    "#Top Spenders\n",
    "#•Identify the the top 5 spenders in the game by total purchase value, then list (in a table):\n",
    "#•SN\n",
    "#•Purchase Count\n",
    "#•Average Purchase Price\n",
    "#•Total Purchase Value"
   ]
  },
  {
   "cell_type": "code",
   "execution_count": 96,
   "metadata": {
    "collapsed": true
   },
   "outputs": [],
   "source": [
    "tops_df = hp_df.groupby('SN').agg({'Price': 'sum','Item ID': 'count'})\n",
    "top5_df = tops_df.nlargest(5, 'Price')\n",
    "top5_df = top5_df.rename(columns={'Price': 'Total Purchase Value', 'Item ID': 'Purchase Count'})\n",
    "#top5_df['Total Purchase Value'] = top5_df['Total Purchase Value'].map('${:,.2f}'.format)\n",
    "#top5_df"
   ]
  },
  {
   "cell_type": "code",
   "execution_count": 97,
   "metadata": {},
   "outputs": [
    {
     "data": {
      "text/plain": [
       "['Undirrala66', 'Aerithllora36', 'Saedue76', 'Sondim43', 'Mindimnya67']"
      ]
     },
     "execution_count": 97,
     "metadata": {},
     "output_type": "execute_result"
    }
   ],
   "source": [
    "top5 = list(top5_df.index.values)\n",
    "top5"
   ]
  },
  {
   "cell_type": "code",
   "execution_count": 98,
   "metadata": {},
   "outputs": [
    {
     "data": {
      "text/plain": [
       "Undirrala66    5\n",
       "Hailaphos89    4\n",
       "Sondastan54    4\n",
       "Saedue76       4\n",
       "Qarwen67       4\n",
       "Name: SN, dtype: int64"
      ]
     },
     "execution_count": 98,
     "metadata": {},
     "output_type": "execute_result"
    }
   ],
   "source": [
    "top5c_df = hp_df['SN'].value_counts()\n",
    "top5c_df.head()"
   ]
  },
  {
   "cell_type": "code",
   "execution_count": 99,
   "metadata": {},
   "outputs": [
    {
     "data": {
      "text/plain": [
       "[17.06, 15.1, 13.56, 13.02, 12.739999999999998]"
      ]
     },
     "execution_count": 99,
     "metadata": {},
     "output_type": "execute_result"
    }
   ],
   "source": [
    "t5_pt = top5_df['Total Purchase Value'].tolist()\n",
    "t5_pt"
   ]
  },
  {
   "cell_type": "code",
   "execution_count": 100,
   "metadata": {},
   "outputs": [
    {
     "data": {
      "text/plain": [
       "[5, 4, 4, 4, 4]"
      ]
     },
     "execution_count": 100,
     "metadata": {},
     "output_type": "execute_result"
    }
   ],
   "source": [
    "t5_pc = top5_df['Purchase Count'].tolist()\n",
    "t5_pc"
   ]
  },
  {
   "cell_type": "code",
   "execution_count": 101,
   "metadata": {},
   "outputs": [
    {
     "data": {
      "text/plain": [
       "[3.412, 3.775, 3.39, 3.255, 3.1849999999999996]"
      ]
     },
     "execution_count": 101,
     "metadata": {},
     "output_type": "execute_result"
    }
   ],
   "source": [
    "t5_apc = [(x*1.0)/y for x, y in zip(t5_pt, t5_pc)]\n",
    "t5_apc"
   ]
  },
  {
   "cell_type": "code",
   "execution_count": 102,
   "metadata": {},
   "outputs": [
    {
     "data": {
      "text/html": [
       "<div>\n",
       "<style>\n",
       "    .dataframe thead tr:only-child th {\n",
       "        text-align: right;\n",
       "    }\n",
       "\n",
       "    .dataframe thead th {\n",
       "        text-align: left;\n",
       "    }\n",
       "\n",
       "    .dataframe tbody tr th {\n",
       "        vertical-align: top;\n",
       "    }\n",
       "</style>\n",
       "<table border=\"1\" class=\"dataframe\">\n",
       "  <thead>\n",
       "    <tr style=\"text-align: right;\">\n",
       "      <th></th>\n",
       "      <th>Total Purchase Value</th>\n",
       "      <th>Purchase Count</th>\n",
       "      <th>Average Purchase Price</th>\n",
       "    </tr>\n",
       "    <tr>\n",
       "      <th>SN</th>\n",
       "      <th></th>\n",
       "      <th></th>\n",
       "      <th></th>\n",
       "    </tr>\n",
       "  </thead>\n",
       "  <tbody>\n",
       "    <tr>\n",
       "      <th>Undirrala66</th>\n",
       "      <td>$17.06</td>\n",
       "      <td>5</td>\n",
       "      <td>$3.41</td>\n",
       "    </tr>\n",
       "    <tr>\n",
       "      <th>Aerithllora36</th>\n",
       "      <td>$15.10</td>\n",
       "      <td>4</td>\n",
       "      <td>$3.77</td>\n",
       "    </tr>\n",
       "    <tr>\n",
       "      <th>Saedue76</th>\n",
       "      <td>$13.56</td>\n",
       "      <td>4</td>\n",
       "      <td>$3.39</td>\n",
       "    </tr>\n",
       "    <tr>\n",
       "      <th>Sondim43</th>\n",
       "      <td>$13.02</td>\n",
       "      <td>4</td>\n",
       "      <td>$3.25</td>\n",
       "    </tr>\n",
       "    <tr>\n",
       "      <th>Mindimnya67</th>\n",
       "      <td>$12.74</td>\n",
       "      <td>4</td>\n",
       "      <td>$3.18</td>\n",
       "    </tr>\n",
       "  </tbody>\n",
       "</table>\n",
       "</div>"
      ],
      "text/plain": [
       "              Total Purchase Value  Purchase Count Average Purchase Price\n",
       "SN                                                                       \n",
       "Undirrala66                 $17.06               5                  $3.41\n",
       "Aerithllora36               $15.10               4                  $3.77\n",
       "Saedue76                    $13.56               4                  $3.39\n",
       "Sondim43                    $13.02               4                  $3.25\n",
       "Mindimnya67                 $12.74               4                  $3.18"
      ]
     },
     "execution_count": 102,
     "metadata": {},
     "output_type": "execute_result"
    }
   ],
   "source": [
    "top5_df['Average Purchase Price'] = pd.Series(t5_apc, index=top5_df.index)\n",
    "top5_df = top5_df.rename(columns={'Price': 'Total Purchase Value', 'Item ID': 'Purchase Count'})\n",
    "top5_df['Total Purchase Value'] = top5_df['Total Purchase Value'].map('${:,.2f}'.format)\n",
    "top5_df['Average Purchase Price'] = top5_df['Average Purchase Price'].map('${:,.2f}'.format)\n",
    "top5_df"
   ]
  },
  {
   "cell_type": "code",
   "execution_count": 103,
   "metadata": {
    "collapsed": true
   },
   "outputs": [],
   "source": [
    "#Most Popular Items\n",
    "#•Identify the 5 most popular items by purchase count, then list (in a table):\n",
    "#•Item ID\n",
    "#•Item Name\n",
    "#•Purchase Count\n",
    "#•Item Price\n",
    "#•Total Purchase Value"
   ]
  },
  {
   "cell_type": "code",
   "execution_count": 105,
   "metadata": {},
   "outputs": [
    {
     "data": {
      "text/html": [
       "<div>\n",
       "<style>\n",
       "    .dataframe thead tr:only-child th {\n",
       "        text-align: right;\n",
       "    }\n",
       "\n",
       "    .dataframe thead th {\n",
       "        text-align: left;\n",
       "    }\n",
       "\n",
       "    .dataframe tbody tr th {\n",
       "        vertical-align: top;\n",
       "    }\n",
       "</style>\n",
       "<table border=\"1\" class=\"dataframe\">\n",
       "  <thead>\n",
       "    <tr style=\"text-align: right;\">\n",
       "      <th></th>\n",
       "      <th></th>\n",
       "      <th></th>\n",
       "      <th>Total Purchase Value</th>\n",
       "      <th>Purchase Count</th>\n",
       "    </tr>\n",
       "    <tr>\n",
       "      <th>Item ID</th>\n",
       "      <th>Item Name</th>\n",
       "      <th>Price</th>\n",
       "      <th></th>\n",
       "      <th></th>\n",
       "    </tr>\n",
       "  </thead>\n",
       "  <tbody>\n",
       "    <tr>\n",
       "      <th>39</th>\n",
       "      <th>Betrayal, Whisper of Grieving Widows</th>\n",
       "      <th>2.35</th>\n",
       "      <td>$25.85</td>\n",
       "      <td>11</td>\n",
       "    </tr>\n",
       "    <tr>\n",
       "      <th>84</th>\n",
       "      <th>Arcane Gem</th>\n",
       "      <th>2.23</th>\n",
       "      <td>$24.53</td>\n",
       "      <td>11</td>\n",
       "    </tr>\n",
       "    <tr>\n",
       "      <th>13</th>\n",
       "      <th>Serenity</th>\n",
       "      <th>1.49</th>\n",
       "      <td>$13.41</td>\n",
       "      <td>9</td>\n",
       "    </tr>\n",
       "    <tr>\n",
       "      <th>31</th>\n",
       "      <th>Trickster</th>\n",
       "      <th>2.07</th>\n",
       "      <td>$18.63</td>\n",
       "      <td>9</td>\n",
       "    </tr>\n",
       "    <tr>\n",
       "      <th>34</th>\n",
       "      <th>Retribution Axe</th>\n",
       "      <th>4.14</th>\n",
       "      <td>$37.26</td>\n",
       "      <td>9</td>\n",
       "    </tr>\n",
       "  </tbody>\n",
       "</table>\n",
       "</div>"
      ],
      "text/plain": [
       "                                                   Total Purchase Value  \\\n",
       "Item ID Item Name                            Price                        \n",
       "39      Betrayal, Whisper of Grieving Widows 2.35                $25.85   \n",
       "84      Arcane Gem                           2.23                $24.53   \n",
       "13      Serenity                             1.49                $13.41   \n",
       "31      Trickster                            2.07                $18.63   \n",
       "34      Retribution Axe                      4.14                $37.26   \n",
       "\n",
       "                                                    Purchase Count  \n",
       "Item ID Item Name                            Price                  \n",
       "39      Betrayal, Whisper of Grieving Widows 2.35               11  \n",
       "84      Arcane Gem                           2.23               11  \n",
       "13      Serenity                             1.49                9  \n",
       "31      Trickster                            2.07                9  \n",
       "34      Retribution Axe                      4.14                9  "
      ]
     },
     "execution_count": 105,
     "metadata": {},
     "output_type": "execute_result"
    }
   ],
   "source": [
    "topsi_df = hp_df[['Item ID','Item Name','Price']]\n",
    "new_topsi_df = topsi_df.groupby(['Item ID','Item Name','Price']).agg({'Price': 'sum','Item ID': 'count'})\n",
    "top5i_df = new_topsi_df.nlargest(5, 'Item ID')\n",
    "top5i_df = top5i_df.rename(columns={'Price': 'Total Purchase Value', 'Item ID': 'Purchase Count'})\n",
    "top5i_df['Total Purchase Value'] = top5i_df['Total Purchase Value'].map('${:,.2f}'.format)\n",
    "#top5i_df['Price'] = top5i_df['Price'].map('${:,.2f}'.format)\n",
    "top5i_df"
   ]
  },
  {
   "cell_type": "code",
   "execution_count": 64,
   "metadata": {
    "collapsed": true
   },
   "outputs": [],
   "source": [
    "#Most Profitable Items\n",
    "#•Identify the 5 most profitable items by total purchase value, then list (in a table):\n",
    "#•Item ID\n",
    "#•Item Name\n",
    "#•Purchase Count\n",
    "#•Item Price\n",
    "#•Total Purchase Value"
   ]
  },
  {
   "cell_type": "code",
   "execution_count": 65,
   "metadata": {},
   "outputs": [
    {
     "data": {
      "text/html": [
       "<div>\n",
       "<style>\n",
       "    .dataframe thead tr:only-child th {\n",
       "        text-align: right;\n",
       "    }\n",
       "\n",
       "    .dataframe thead th {\n",
       "        text-align: left;\n",
       "    }\n",
       "\n",
       "    .dataframe tbody tr th {\n",
       "        vertical-align: top;\n",
       "    }\n",
       "</style>\n",
       "<table border=\"1\" class=\"dataframe\">\n",
       "  <thead>\n",
       "    <tr style=\"text-align: right;\">\n",
       "      <th></th>\n",
       "      <th></th>\n",
       "      <th></th>\n",
       "      <th>Total Purchase Value</th>\n",
       "      <th>Purchase Count</th>\n",
       "    </tr>\n",
       "    <tr>\n",
       "      <th>Item ID</th>\n",
       "      <th>Item Name</th>\n",
       "      <th>Price</th>\n",
       "      <th></th>\n",
       "      <th></th>\n",
       "    </tr>\n",
       "  </thead>\n",
       "  <tbody>\n",
       "    <tr>\n",
       "      <th>34</th>\n",
       "      <th>Retribution Axe</th>\n",
       "      <th>4.14</th>\n",
       "      <td>$37.26</td>\n",
       "      <td>9</td>\n",
       "    </tr>\n",
       "    <tr>\n",
       "      <th>115</th>\n",
       "      <th>Spectral Diamond Doomblade</th>\n",
       "      <th>4.25</th>\n",
       "      <td>$29.75</td>\n",
       "      <td>7</td>\n",
       "    </tr>\n",
       "    <tr>\n",
       "      <th>32</th>\n",
       "      <th>Orenmir</th>\n",
       "      <th>4.95</th>\n",
       "      <td>$29.70</td>\n",
       "      <td>6</td>\n",
       "    </tr>\n",
       "    <tr>\n",
       "      <th>103</th>\n",
       "      <th>Singed Scalpel</th>\n",
       "      <th>4.87</th>\n",
       "      <td>$29.22</td>\n",
       "      <td>6</td>\n",
       "    </tr>\n",
       "    <tr>\n",
       "      <th>107</th>\n",
       "      <th>Splitter, Foe Of Subtlety</th>\n",
       "      <th>3.61</th>\n",
       "      <td>$28.88</td>\n",
       "      <td>8</td>\n",
       "    </tr>\n",
       "  </tbody>\n",
       "</table>\n",
       "</div>"
      ],
      "text/plain": [
       "                                         Total Purchase Value  Purchase Count\n",
       "Item ID Item Name                  Price                                     \n",
       "34      Retribution Axe            4.14                $37.26               9\n",
       "115     Spectral Diamond Doomblade 4.25                $29.75               7\n",
       "32      Orenmir                    4.95                $29.70               6\n",
       "103     Singed Scalpel             4.87                $29.22               6\n",
       "107     Splitter, Foe Of Subtlety  3.61                $28.88               8"
      ]
     },
     "execution_count": 65,
     "metadata": {},
     "output_type": "execute_result"
    }
   ],
   "source": [
    "topsip_df = hp_df[['Item ID','Item Name','Price']]\n",
    "new_topsip_df = topsip_df.groupby(['Item ID','Item Name','Price']).agg({'Price': 'sum','Item ID': 'count'})\n",
    "top5ip_df = new_topsip_df.nlargest(5, 'Price')\n",
    "top5ip_df = top5ip_df.rename(columns={'Price': 'Total Purchase Value', 'Item ID': 'Purchase Count'})\n",
    "top5ip_df['Total Purchase Value'] = top5ip_df['Total Purchase Value'].map('${:,.2f}'.format)\n",
    "top5ip_df"
   ]
  },
  {
   "cell_type": "code",
   "execution_count": null,
   "metadata": {
    "collapsed": true
   },
   "outputs": [],
   "source": []
  },
  {
   "cell_type": "code",
   "execution_count": null,
   "metadata": {
    "collapsed": true
   },
   "outputs": [],
   "source": []
  }
 ],
 "metadata": {
  "kernelspec": {
   "display_name": "Python 3",
   "language": "python",
   "name": "python3"
  },
  "language_info": {
   "codemirror_mode": {
    "name": "ipython",
    "version": 3
   },
   "file_extension": ".py",
   "mimetype": "text/x-python",
   "name": "python",
   "nbconvert_exporter": "python",
   "pygments_lexer": "ipython3",
   "version": "3.6.3"
  }
 },
 "nbformat": 4,
 "nbformat_minor": 2
}
